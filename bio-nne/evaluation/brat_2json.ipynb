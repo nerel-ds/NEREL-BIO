{
 "cells": [
  {
   "cell_type": "markdown",
   "id": "d4ab0bdc-640a-43a4-b814-d01e1e5910a0",
   "metadata": {},
   "source": [
    "## BRAT -> JSONL\n",
    "This notebook will help you prepare your data for the submission format for the BioNNE task. \n",
    "\n",
    "One entity corresponds to one line in the .json file, which contains the following keys:\n",
    "\n",
    "**\"entities\"** is a list of lists containing the starting position of the entity, the ending position of the entity and the type of the entity;\n",
    "\n",
    "**\"id\"** is the id (name) of the corresponding .txt and .ann files;\n",
    "\n",
    "**\"text\"** is the medical abstract from the corresponding .txt file.\n",
    "\n",
    "Example:\n",
    "\n",
    "```\n",
    "{\"entities\":[[27,39,\"CHEM\"],[86,92,\"DISO\"],[109,131,\"DISO\"],[184,196,\"CHEM\"],[435,453,\"PHYS\"],...],\n",
    "\"id\":\"25591652_en\",\n",
    "\"text\": \"Clinical effectiveness of pioglitazone in the combination treatment of patients with asthma concurrent with coronary heart disease].  AIM To investigate the clinical effectiveness of pioglitazone in the combination treatment of patients with asthma concurrent with coronary heart disease (CHD).  SUBJECTS AND METHODS Fifty patients aged 40-75 years with asthma concurrent with CHD were examined.  External respiratory function (ERF), electrocardiograms, blood pressure (BP), and anthropometric measurements were assessed in all the patients...\"}\n",
    "```"
   ]
  },
  {
   "cell_type": "code",
   "execution_count": null,
   "id": "46831f74-18e9-49fd-bfec-71f164fdd624",
   "metadata": {},
   "outputs": [],
   "source": [
    "import os \n",
    "import re\n",
    "import pandas as pd"
   ]
  },
  {
   "cell_type": "code",
   "execution_count": null,
   "id": "bdcf4eba-a86d-45de-a8e3-3917366674d5",
   "metadata": {},
   "outputs": [],
   "source": [
    "BRAT_FORMAT = r'(?P<entity_id>^T[0-9\\_a-z]+)\\t(?P<type>[a-zA-Z\\_\\-]+) (?P<positions>[0-9; ]+)\\t(?P<text>.*)'\n",
    "ANNOTATION = r'(?P<id>^N[0-9]+)\\tReference (?P<entity_id>T[0-9]+) (?P<ontology_name>[a-zA-Z\\_]+)\\:(?P<concept_id>[a-zA-Z\\_0-9]+)\\t(?P<concept_name>.*)'"
   ]
  },
  {
   "cell_type": "code",
   "execution_count": null,
   "id": "7b21dd3f-1a2c-4e6a-a88d-389e48da30e3",
   "metadata": {},
   "outputs": [],
   "source": [
    "def read_file(fpath):\n",
    "    with open(fpath, encoding='utf-8') as input_stream:\n",
    "        data = input_stream.read()\n",
    "    return data\n",
    "\n",
    "\n",
    "def parse_annotation(annotation_line):\n",
    "    annotation = re.search(BRAT_FORMAT, annotation_line).groupdict()\n",
    "    annotation_positions = annotation['positions']\n",
    "\n",
    "    if \";\" in annotation_positions:\n",
    "        # if the entity is splitted in a sentence, the desired format is [start, end, start, end, type]\n",
    "        positions = annotation_positions.split(\";\")\n",
    "\n",
    "        result_annotation = [int(positions[0].split(\" \")[0]),\n",
    "                             int(positions[1].split(\" \")[0]),\n",
    "                             annotation['type']]\n",
    "\n",
    "    else:\n",
    "        # desired format is [start, end, type] \n",
    "        positions = annotation_positions.split(\" \")\n",
    "        result_annotation = [int(positions[0]), int(positions[1]), annotation['type']]\n",
    "\n",
    "    return result_annotation\n",
    "    \n",
    "\n",
    "def extract_entities_from_brat(annotations_raw: str):\n",
    "    annotations = []\n",
    "    for annotation_line in annotations_raw.split('\\n'):\n",
    "        if annotation_line:\n",
    "            annotation = parse_annotation(annotation_line)\n",
    "            annotations.append(annotation)\n",
    "    return annotations\n",
    "\n",
    "\n",
    "def convert_brat_to_dataframe(path_to_brat_folder):\n",
    "    entities_dicts = []\n",
    "    texts_dicts = []\n",
    "\n",
    "    for path, dirs, files in os.walk(path_to_brat_folder):\n",
    "        for file in files:\n",
    "            file_id = file.split(\".\")[0]\n",
    "            filepath = os.path.join(path, file)\n",
    "            if file.endswith(\".ann\"):\n",
    "\n",
    "                annotations_raw = read_file(filepath)\n",
    "\n",
    "                entities = extract_entities_from_brat(annotations_raw)\n",
    "\n",
    "                entities_dict = { \n",
    "                                    \"entities\": entities,\n",
    "                                    \"id\": file_id \n",
    "                                }\n",
    "\n",
    "                entities_dicts.append(entities_dict)\n",
    "\n",
    "\n",
    "            if file.endswith(\".txt\"):\n",
    "\n",
    "                text = read_file(filepath)\n",
    "                texts_dict = {\n",
    "                                \"text\": text,\n",
    "                                \"id\": file_id\n",
    "                             }\n",
    "                texts_dicts.append(texts_dict)\n",
    "\n",
    "    df_entities = pd.DataFrame(entities_dicts)\n",
    "    df_texts = pd.DataFrame(texts_dicts)\n",
    "    entities_df = df_entities.merge(df_texts)\n",
    "        \n",
    "    return entities_df"
   ]
  },
  {
   "cell_type": "code",
   "execution_count": null,
   "id": "b627c814-78bb-4efb-b5c4-7bf314e377c3",
   "metadata": {},
   "outputs": [],
   "source": [
    "#You can check the corresponding dataframe\n",
    "entities_df = convert_brat_to_dataframe(path_to_brat_folder)\n",
    "entities_df"
   ]
  },
  {
   "cell_type": "code",
   "execution_count": null,
   "id": "4cd627bd-ba31-4e82-b79b-a5024cd8e17c",
   "metadata": {},
   "outputs": [],
   "source": [
    "#And save it as .jsonl file\n",
    "entities_df.to_json(\"predictions.jsonl\", orient='records', lines=True, force_ascii=False)"
   ]
  }
 ],
 "metadata": {
  "kernelspec": {
   "display_name": "Python 3 (ipykernel)",
   "language": "python",
   "name": "python3"
  },
  "language_info": {
   "codemirror_mode": {
    "name": "ipython",
    "version": 3
   },
   "file_extension": ".py",
   "mimetype": "text/x-python",
   "name": "python",
   "nbconvert_exporter": "python",
   "pygments_lexer": "ipython3",
   "version": "3.12.3"
  }
 },
 "nbformat": 4,
 "nbformat_minor": 5
}
